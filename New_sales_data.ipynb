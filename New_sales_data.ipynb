{
 "cells": [
  {
   "cell_type": "code",
   "execution_count": 1,
   "metadata": {},
   "outputs": [],
   "source": [
    "import pandas as pd\n",
    "import numpy as np\n",
    "import matplotlib.pyplot as plt "
   ]
  },
  {
   "cell_type": "markdown",
   "metadata": {},
   "source": [
    "# Data Manipulation"
   ]
  },
  {
   "cell_type": "code",
   "execution_count": 2,
   "metadata": {},
   "outputs": [
    {
     "data": {
      "text/html": [
       "<div>\n",
       "<style scoped>\n",
       "    .dataframe tbody tr th:only-of-type {\n",
       "        vertical-align: middle;\n",
       "    }\n",
       "\n",
       "    .dataframe tbody tr th {\n",
       "        vertical-align: top;\n",
       "    }\n",
       "\n",
       "    .dataframe thead th {\n",
       "        text-align: right;\n",
       "    }\n",
       "</style>\n",
       "<table border=\"1\" class=\"dataframe\">\n",
       "  <thead>\n",
       "    <tr style=\"text-align: right;\">\n",
       "      <th></th>\n",
       "      <th>order number</th>\n",
       "      <th>quantity ordered</th>\n",
       "      <th>price each</th>\n",
       "      <th>order line number</th>\n",
       "      <th>sales</th>\n",
       "      <th>order date</th>\n",
       "      <th>status</th>\n",
       "      <th>qtr_id</th>\n",
       "      <th>month_id</th>\n",
       "      <th>year_id</th>\n",
       "      <th>...</th>\n",
       "      <th>address line1</th>\n",
       "      <th>address line2</th>\n",
       "      <th>city</th>\n",
       "      <th>state</th>\n",
       "      <th>postal code</th>\n",
       "      <th>country</th>\n",
       "      <th>territory</th>\n",
       "      <th>contact lastname</th>\n",
       "      <th>contact firstname</th>\n",
       "      <th>deal size</th>\n",
       "    </tr>\n",
       "  </thead>\n",
       "  <tbody>\n",
       "    <tr>\n",
       "      <th>0</th>\n",
       "      <td>10107</td>\n",
       "      <td>30</td>\n",
       "      <td>95.70</td>\n",
       "      <td>2</td>\n",
       "      <td>2871.00</td>\n",
       "      <td>2003-02-24</td>\n",
       "      <td>Shipped</td>\n",
       "      <td>1</td>\n",
       "      <td>2</td>\n",
       "      <td>2003</td>\n",
       "      <td>...</td>\n",
       "      <td>897 Long Airport Avenue</td>\n",
       "      <td>NaN</td>\n",
       "      <td>NYC</td>\n",
       "      <td>NY</td>\n",
       "      <td>10022</td>\n",
       "      <td>USA</td>\n",
       "      <td>NaN</td>\n",
       "      <td>Yu</td>\n",
       "      <td>Kwai</td>\n",
       "      <td>Small</td>\n",
       "    </tr>\n",
       "    <tr>\n",
       "      <th>1</th>\n",
       "      <td>10121</td>\n",
       "      <td>34</td>\n",
       "      <td>81.35</td>\n",
       "      <td>5</td>\n",
       "      <td>2765.90</td>\n",
       "      <td>2003-05-07</td>\n",
       "      <td>Shipped</td>\n",
       "      <td>2</td>\n",
       "      <td>5</td>\n",
       "      <td>2003</td>\n",
       "      <td>...</td>\n",
       "      <td>59 rue de l'Abbaye</td>\n",
       "      <td>NaN</td>\n",
       "      <td>Reims</td>\n",
       "      <td>NaN</td>\n",
       "      <td>51100</td>\n",
       "      <td>France</td>\n",
       "      <td>EMEA</td>\n",
       "      <td>Henriot</td>\n",
       "      <td>Paul</td>\n",
       "      <td>Small</td>\n",
       "    </tr>\n",
       "    <tr>\n",
       "      <th>2</th>\n",
       "      <td>10134</td>\n",
       "      <td>41</td>\n",
       "      <td>94.74</td>\n",
       "      <td>2</td>\n",
       "      <td>3884.34</td>\n",
       "      <td>2003-07-01</td>\n",
       "      <td>Shipped</td>\n",
       "      <td>3</td>\n",
       "      <td>7</td>\n",
       "      <td>2003</td>\n",
       "      <td>...</td>\n",
       "      <td>27 rue du Colonel Pierre Avia</td>\n",
       "      <td>NaN</td>\n",
       "      <td>Paris</td>\n",
       "      <td>NaN</td>\n",
       "      <td>75508</td>\n",
       "      <td>France</td>\n",
       "      <td>EMEA</td>\n",
       "      <td>Da Cunha</td>\n",
       "      <td>Daniel</td>\n",
       "      <td>Medium</td>\n",
       "    </tr>\n",
       "    <tr>\n",
       "      <th>3</th>\n",
       "      <td>10145</td>\n",
       "      <td>45</td>\n",
       "      <td>83.26</td>\n",
       "      <td>6</td>\n",
       "      <td>3746.70</td>\n",
       "      <td>2003-08-25</td>\n",
       "      <td>Shipped</td>\n",
       "      <td>3</td>\n",
       "      <td>8</td>\n",
       "      <td>2003</td>\n",
       "      <td>...</td>\n",
       "      <td>78934 Hillside Dr.</td>\n",
       "      <td>NaN</td>\n",
       "      <td>Pasadena</td>\n",
       "      <td>CA</td>\n",
       "      <td>90003</td>\n",
       "      <td>USA</td>\n",
       "      <td>NaN</td>\n",
       "      <td>Young</td>\n",
       "      <td>Julie</td>\n",
       "      <td>Medium</td>\n",
       "    </tr>\n",
       "    <tr>\n",
       "      <th>4</th>\n",
       "      <td>10159</td>\n",
       "      <td>49</td>\n",
       "      <td>106.23</td>\n",
       "      <td>14</td>\n",
       "      <td>5205.27</td>\n",
       "      <td>2003-10-10</td>\n",
       "      <td>Shipped</td>\n",
       "      <td>4</td>\n",
       "      <td>10</td>\n",
       "      <td>2003</td>\n",
       "      <td>...</td>\n",
       "      <td>7734 Strong St.</td>\n",
       "      <td>NaN</td>\n",
       "      <td>San Francisco</td>\n",
       "      <td>CA</td>\n",
       "      <td>NaN</td>\n",
       "      <td>USA</td>\n",
       "      <td>NaN</td>\n",
       "      <td>Brown</td>\n",
       "      <td>Julie</td>\n",
       "      <td>Medium</td>\n",
       "    </tr>\n",
       "    <tr>\n",
       "      <th>5</th>\n",
       "      <td>10168</td>\n",
       "      <td>36</td>\n",
       "      <td>96.66</td>\n",
       "      <td>1</td>\n",
       "      <td>3479.76</td>\n",
       "      <td>2003-10-28</td>\n",
       "      <td>Shipped</td>\n",
       "      <td>4</td>\n",
       "      <td>10</td>\n",
       "      <td>2003</td>\n",
       "      <td>...</td>\n",
       "      <td>9408 Furth Circle</td>\n",
       "      <td>NaN</td>\n",
       "      <td>Burlingame</td>\n",
       "      <td>CA</td>\n",
       "      <td>94217</td>\n",
       "      <td>USA</td>\n",
       "      <td>NaN</td>\n",
       "      <td>Hirano</td>\n",
       "      <td>Juri</td>\n",
       "      <td>Medium</td>\n",
       "    </tr>\n",
       "    <tr>\n",
       "      <th>6</th>\n",
       "      <td>10180</td>\n",
       "      <td>29</td>\n",
       "      <td>86.13</td>\n",
       "      <td>9</td>\n",
       "      <td>2497.77</td>\n",
       "      <td>2003-11-11</td>\n",
       "      <td>Shipped</td>\n",
       "      <td>4</td>\n",
       "      <td>11</td>\n",
       "      <td>2003</td>\n",
       "      <td>...</td>\n",
       "      <td>184 chausse de Tournai</td>\n",
       "      <td>NaN</td>\n",
       "      <td>Lille</td>\n",
       "      <td>NaN</td>\n",
       "      <td>59000</td>\n",
       "      <td>France</td>\n",
       "      <td>EMEA</td>\n",
       "      <td>Rance</td>\n",
       "      <td>Martine</td>\n",
       "      <td>Small</td>\n",
       "    </tr>\n",
       "    <tr>\n",
       "      <th>7</th>\n",
       "      <td>10188</td>\n",
       "      <td>48</td>\n",
       "      <td>114.84</td>\n",
       "      <td>1</td>\n",
       "      <td>5512.32</td>\n",
       "      <td>2003-11-18</td>\n",
       "      <td>Shipped</td>\n",
       "      <td>4</td>\n",
       "      <td>11</td>\n",
       "      <td>2003</td>\n",
       "      <td>...</td>\n",
       "      <td>Drammen 121 PR 744 Sentrum</td>\n",
       "      <td>NaN</td>\n",
       "      <td>Bergen</td>\n",
       "      <td>NaN</td>\n",
       "      <td>N 5804</td>\n",
       "      <td>Norway</td>\n",
       "      <td>EMEA</td>\n",
       "      <td>Oeztan</td>\n",
       "      <td>Veysel</td>\n",
       "      <td>Medium</td>\n",
       "    </tr>\n",
       "    <tr>\n",
       "      <th>8</th>\n",
       "      <td>10201</td>\n",
       "      <td>22</td>\n",
       "      <td>98.57</td>\n",
       "      <td>2</td>\n",
       "      <td>2168.54</td>\n",
       "      <td>2003-12-01</td>\n",
       "      <td>Shipped</td>\n",
       "      <td>4</td>\n",
       "      <td>12</td>\n",
       "      <td>2003</td>\n",
       "      <td>...</td>\n",
       "      <td>5557 North Pendale Street</td>\n",
       "      <td>NaN</td>\n",
       "      <td>San Francisco</td>\n",
       "      <td>CA</td>\n",
       "      <td>NaN</td>\n",
       "      <td>USA</td>\n",
       "      <td>NaN</td>\n",
       "      <td>Murphy</td>\n",
       "      <td>Julie</td>\n",
       "      <td>Small</td>\n",
       "    </tr>\n",
       "    <tr>\n",
       "      <th>9</th>\n",
       "      <td>10211</td>\n",
       "      <td>41</td>\n",
       "      <td>114.84</td>\n",
       "      <td>14</td>\n",
       "      <td>4708.44</td>\n",
       "      <td>2004-01-15</td>\n",
       "      <td>Shipped</td>\n",
       "      <td>1</td>\n",
       "      <td>1</td>\n",
       "      <td>2004</td>\n",
       "      <td>...</td>\n",
       "      <td>25 rue Lauriston</td>\n",
       "      <td>NaN</td>\n",
       "      <td>Paris</td>\n",
       "      <td>NaN</td>\n",
       "      <td>75016</td>\n",
       "      <td>France</td>\n",
       "      <td>EMEA</td>\n",
       "      <td>Perrier</td>\n",
       "      <td>Dominique</td>\n",
       "      <td>Medium</td>\n",
       "    </tr>\n",
       "  </tbody>\n",
       "</table>\n",
       "<p>10 rows × 25 columns</p>\n",
       "</div>"
      ],
      "text/plain": [
       "   order number  quantity ordered  price each  order line number    sales  \\\n",
       "0         10107                30       95.70                  2  2871.00   \n",
       "1         10121                34       81.35                  5  2765.90   \n",
       "2         10134                41       94.74                  2  3884.34   \n",
       "3         10145                45       83.26                  6  3746.70   \n",
       "4         10159                49      106.23                 14  5205.27   \n",
       "5         10168                36       96.66                  1  3479.76   \n",
       "6         10180                29       86.13                  9  2497.77   \n",
       "7         10188                48      114.84                  1  5512.32   \n",
       "8         10201                22       98.57                  2  2168.54   \n",
       "9         10211                41      114.84                 14  4708.44   \n",
       "\n",
       "  order date   status  qtr_id  month_id  year_id  ...  \\\n",
       "0 2003-02-24  Shipped       1         2     2003  ...   \n",
       "1 2003-05-07  Shipped       2         5     2003  ...   \n",
       "2 2003-07-01  Shipped       3         7     2003  ...   \n",
       "3 2003-08-25  Shipped       3         8     2003  ...   \n",
       "4 2003-10-10  Shipped       4        10     2003  ...   \n",
       "5 2003-10-28  Shipped       4        10     2003  ...   \n",
       "6 2003-11-11  Shipped       4        11     2003  ...   \n",
       "7 2003-11-18  Shipped       4        11     2003  ...   \n",
       "8 2003-12-01  Shipped       4        12     2003  ...   \n",
       "9 2004-01-15  Shipped       1         1     2004  ...   \n",
       "\n",
       "                   address line1  address line2           city state  \\\n",
       "0        897 Long Airport Avenue            NaN            NYC    NY   \n",
       "1             59 rue de l'Abbaye            NaN          Reims   NaN   \n",
       "2  27 rue du Colonel Pierre Avia            NaN          Paris   NaN   \n",
       "3             78934 Hillside Dr.            NaN       Pasadena    CA   \n",
       "4                7734 Strong St.            NaN  San Francisco    CA   \n",
       "5              9408 Furth Circle            NaN     Burlingame    CA   \n",
       "6         184 chausse de Tournai            NaN          Lille   NaN   \n",
       "7     Drammen 121 PR 744 Sentrum            NaN         Bergen   NaN   \n",
       "8      5557 North Pendale Street            NaN  San Francisco    CA   \n",
       "9               25 rue Lauriston            NaN          Paris   NaN   \n",
       "\n",
       "  postal code country territory contact lastname contact firstname deal size  \n",
       "0       10022     USA       NaN               Yu              Kwai     Small  \n",
       "1       51100  France      EMEA          Henriot              Paul     Small  \n",
       "2       75508  France      EMEA         Da Cunha            Daniel    Medium  \n",
       "3       90003     USA       NaN            Young             Julie    Medium  \n",
       "4         NaN     USA       NaN            Brown             Julie    Medium  \n",
       "5       94217     USA       NaN           Hirano              Juri    Medium  \n",
       "6       59000  France      EMEA            Rance           Martine     Small  \n",
       "7      N 5804  Norway      EMEA           Oeztan            Veysel    Medium  \n",
       "8         NaN     USA       NaN           Murphy             Julie     Small  \n",
       "9       75016  France      EMEA          Perrier         Dominique    Medium  \n",
       "\n",
       "[10 rows x 25 columns]"
      ]
     },
     "execution_count": 2,
     "metadata": {},
     "output_type": "execute_result"
    }
   ],
   "source": [
    "df = pd.read_csv('C:/Users/user/Documents/GitHub/Analyze-sales-data/new_sales_data.csv', sep=';')\n",
    "#Convertir les noms des colonnes en minuscules\n",
    "df.columns = df.columns.str.lower()\n",
    "#convertir en date \n",
    "df['order date'] = pd.to_datetime(df['order date'])\n",
    "df.head(10)"
   ]
  },
  {
   "cell_type": "code",
   "execution_count": 3,
   "metadata": {},
   "outputs": [
    {
     "name": "stdout",
     "output_type": "stream",
     "text": [
      "<class 'pandas.core.frame.DataFrame'>\n",
      "RangeIndex: 2823 entries, 0 to 2822\n",
      "Data columns (total 25 columns):\n",
      "order number         2823 non-null int64\n",
      "quantity ordered     2823 non-null int64\n",
      "price each           2823 non-null float64\n",
      "order line number    2823 non-null int64\n",
      "sales                2823 non-null float64\n",
      "order date           2823 non-null datetime64[ns]\n",
      "status               2823 non-null object\n",
      "qtr_id               2823 non-null int64\n",
      "month_id             2823 non-null int64\n",
      "year_id              2823 non-null int64\n",
      "product line         2823 non-null object\n",
      "msrp                 2823 non-null int64\n",
      "product code         2823 non-null object\n",
      "customer name        2823 non-null object\n",
      "phone                2823 non-null object\n",
      "address line1        2823 non-null object\n",
      "address line2        302 non-null object\n",
      "city                 2823 non-null object\n",
      "state                1337 non-null object\n",
      "postal code          2747 non-null object\n",
      "country              2823 non-null object\n",
      "territory            1749 non-null object\n",
      "contact lastname     2823 non-null object\n",
      "contact firstname    2823 non-null object\n",
      "deal size            2823 non-null object\n",
      "dtypes: datetime64[ns](1), float64(2), int64(7), object(15)\n",
      "memory usage: 551.4+ KB\n"
     ]
    }
   ],
   "source": [
    "df.info()"
   ]
  },
  {
   "cell_type": "code",
   "execution_count": 4,
   "metadata": {},
   "outputs": [
    {
     "data": {
      "text/html": [
       "<div>\n",
       "<style scoped>\n",
       "    .dataframe tbody tr th:only-of-type {\n",
       "        vertical-align: middle;\n",
       "    }\n",
       "\n",
       "    .dataframe tbody tr th {\n",
       "        vertical-align: top;\n",
       "    }\n",
       "\n",
       "    .dataframe thead th {\n",
       "        text-align: right;\n",
       "    }\n",
       "</style>\n",
       "<table border=\"1\" class=\"dataframe\">\n",
       "  <thead>\n",
       "    <tr style=\"text-align: right;\">\n",
       "      <th></th>\n",
       "      <th>order number</th>\n",
       "      <th>quantity ordered</th>\n",
       "      <th>price each</th>\n",
       "      <th>order line number</th>\n",
       "      <th>sales</th>\n",
       "      <th>qtr_id</th>\n",
       "      <th>month_id</th>\n",
       "      <th>year_id</th>\n",
       "      <th>msrp</th>\n",
       "    </tr>\n",
       "  </thead>\n",
       "  <tbody>\n",
       "    <tr>\n",
       "      <th>count</th>\n",
       "      <td>2823.000000</td>\n",
       "      <td>2823.000000</td>\n",
       "      <td>2823.000000</td>\n",
       "      <td>2823.000000</td>\n",
       "      <td>2823.000000</td>\n",
       "      <td>2823.000000</td>\n",
       "      <td>2823.000000</td>\n",
       "      <td>2823.00000</td>\n",
       "      <td>2823.000000</td>\n",
       "    </tr>\n",
       "    <tr>\n",
       "      <th>mean</th>\n",
       "      <td>10258.725115</td>\n",
       "      <td>35.092809</td>\n",
       "      <td>101.159440</td>\n",
       "      <td>6.466171</td>\n",
       "      <td>3553.889072</td>\n",
       "      <td>2.717676</td>\n",
       "      <td>7.092455</td>\n",
       "      <td>2003.81509</td>\n",
       "      <td>100.715551</td>\n",
       "    </tr>\n",
       "    <tr>\n",
       "      <th>std</th>\n",
       "      <td>92.085478</td>\n",
       "      <td>9.741443</td>\n",
       "      <td>42.155561</td>\n",
       "      <td>4.225841</td>\n",
       "      <td>1841.865106</td>\n",
       "      <td>1.203878</td>\n",
       "      <td>3.656633</td>\n",
       "      <td>0.69967</td>\n",
       "      <td>40.187912</td>\n",
       "    </tr>\n",
       "    <tr>\n",
       "      <th>min</th>\n",
       "      <td>10100.000000</td>\n",
       "      <td>6.000000</td>\n",
       "      <td>26.880000</td>\n",
       "      <td>1.000000</td>\n",
       "      <td>482.130000</td>\n",
       "      <td>1.000000</td>\n",
       "      <td>1.000000</td>\n",
       "      <td>2003.00000</td>\n",
       "      <td>33.000000</td>\n",
       "    </tr>\n",
       "    <tr>\n",
       "      <th>25%</th>\n",
       "      <td>10180.000000</td>\n",
       "      <td>27.000000</td>\n",
       "      <td>68.860000</td>\n",
       "      <td>3.000000</td>\n",
       "      <td>2203.430000</td>\n",
       "      <td>2.000000</td>\n",
       "      <td>4.000000</td>\n",
       "      <td>2003.00000</td>\n",
       "      <td>68.000000</td>\n",
       "    </tr>\n",
       "    <tr>\n",
       "      <th>50%</th>\n",
       "      <td>10262.000000</td>\n",
       "      <td>35.000000</td>\n",
       "      <td>95.700000</td>\n",
       "      <td>6.000000</td>\n",
       "      <td>3184.800000</td>\n",
       "      <td>3.000000</td>\n",
       "      <td>8.000000</td>\n",
       "      <td>2004.00000</td>\n",
       "      <td>99.000000</td>\n",
       "    </tr>\n",
       "    <tr>\n",
       "      <th>75%</th>\n",
       "      <td>10333.500000</td>\n",
       "      <td>43.000000</td>\n",
       "      <td>127.100000</td>\n",
       "      <td>9.000000</td>\n",
       "      <td>4508.000000</td>\n",
       "      <td>4.000000</td>\n",
       "      <td>11.000000</td>\n",
       "      <td>2004.00000</td>\n",
       "      <td>124.000000</td>\n",
       "    </tr>\n",
       "    <tr>\n",
       "      <th>max</th>\n",
       "      <td>10425.000000</td>\n",
       "      <td>97.000000</td>\n",
       "      <td>252.870000</td>\n",
       "      <td>18.000000</td>\n",
       "      <td>14082.800000</td>\n",
       "      <td>4.000000</td>\n",
       "      <td>12.000000</td>\n",
       "      <td>2005.00000</td>\n",
       "      <td>214.000000</td>\n",
       "    </tr>\n",
       "  </tbody>\n",
       "</table>\n",
       "</div>"
      ],
      "text/plain": [
       "       order number  quantity ordered   price each  order line number  \\\n",
       "count   2823.000000       2823.000000  2823.000000        2823.000000   \n",
       "mean   10258.725115         35.092809   101.159440           6.466171   \n",
       "std       92.085478          9.741443    42.155561           4.225841   \n",
       "min    10100.000000          6.000000    26.880000           1.000000   \n",
       "25%    10180.000000         27.000000    68.860000           3.000000   \n",
       "50%    10262.000000         35.000000    95.700000           6.000000   \n",
       "75%    10333.500000         43.000000   127.100000           9.000000   \n",
       "max    10425.000000         97.000000   252.870000          18.000000   \n",
       "\n",
       "              sales       qtr_id     month_id     year_id         msrp  \n",
       "count   2823.000000  2823.000000  2823.000000  2823.00000  2823.000000  \n",
       "mean    3553.889072     2.717676     7.092455  2003.81509   100.715551  \n",
       "std     1841.865106     1.203878     3.656633     0.69967    40.187912  \n",
       "min      482.130000     1.000000     1.000000  2003.00000    33.000000  \n",
       "25%     2203.430000     2.000000     4.000000  2003.00000    68.000000  \n",
       "50%     3184.800000     3.000000     8.000000  2004.00000    99.000000  \n",
       "75%     4508.000000     4.000000    11.000000  2004.00000   124.000000  \n",
       "max    14082.800000     4.000000    12.000000  2005.00000   214.000000  "
      ]
     },
     "execution_count": 4,
     "metadata": {},
     "output_type": "execute_result"
    }
   ],
   "source": [
    "df.describe()"
   ]
  },
  {
   "cell_type": "code",
   "execution_count": 5,
   "metadata": {},
   "outputs": [
    {
     "data": {
      "text/html": [
       "<div>\n",
       "<style scoped>\n",
       "    .dataframe tbody tr th:only-of-type {\n",
       "        vertical-align: middle;\n",
       "    }\n",
       "\n",
       "    .dataframe tbody tr th {\n",
       "        vertical-align: top;\n",
       "    }\n",
       "\n",
       "    .dataframe thead th {\n",
       "        text-align: right;\n",
       "    }\n",
       "</style>\n",
       "<table border=\"1\" class=\"dataframe\">\n",
       "  <thead>\n",
       "    <tr style=\"text-align: right;\">\n",
       "      <th></th>\n",
       "      <th>order number</th>\n",
       "      <th>quantity ordered</th>\n",
       "      <th>price each</th>\n",
       "      <th>order line number</th>\n",
       "      <th>sales</th>\n",
       "      <th>order date</th>\n",
       "      <th>status</th>\n",
       "      <th>qtr_id</th>\n",
       "      <th>month_id</th>\n",
       "      <th>year_id</th>\n",
       "      <th>...</th>\n",
       "      <th>address line1</th>\n",
       "      <th>address line2</th>\n",
       "      <th>city</th>\n",
       "      <th>state</th>\n",
       "      <th>postal code</th>\n",
       "      <th>country</th>\n",
       "      <th>territory</th>\n",
       "      <th>contact lastname</th>\n",
       "      <th>contact firstname</th>\n",
       "      <th>deal size</th>\n",
       "    </tr>\n",
       "  </thead>\n",
       "  <tbody>\n",
       "    <tr>\n",
       "      <th>0</th>\n",
       "      <td>10107</td>\n",
       "      <td>30</td>\n",
       "      <td>95.70</td>\n",
       "      <td>2</td>\n",
       "      <td>2871.00</td>\n",
       "      <td>2003-02-24</td>\n",
       "      <td>Shipped</td>\n",
       "      <td>1</td>\n",
       "      <td>2</td>\n",
       "      <td>2003</td>\n",
       "      <td>...</td>\n",
       "      <td>897 Long Airport Avenue</td>\n",
       "      <td>NaN</td>\n",
       "      <td>NYC</td>\n",
       "      <td>NY</td>\n",
       "      <td>10022</td>\n",
       "      <td>USA</td>\n",
       "      <td>NaN</td>\n",
       "      <td>Yu</td>\n",
       "      <td>Kwai</td>\n",
       "      <td>Small</td>\n",
       "    </tr>\n",
       "    <tr>\n",
       "      <th>1</th>\n",
       "      <td>10145</td>\n",
       "      <td>45</td>\n",
       "      <td>83.26</td>\n",
       "      <td>6</td>\n",
       "      <td>3746.70</td>\n",
       "      <td>2003-08-25</td>\n",
       "      <td>Shipped</td>\n",
       "      <td>3</td>\n",
       "      <td>8</td>\n",
       "      <td>2003</td>\n",
       "      <td>...</td>\n",
       "      <td>78934 Hillside Dr.</td>\n",
       "      <td>NaN</td>\n",
       "      <td>Pasadena</td>\n",
       "      <td>CA</td>\n",
       "      <td>90003</td>\n",
       "      <td>USA</td>\n",
       "      <td>NaN</td>\n",
       "      <td>Young</td>\n",
       "      <td>Julie</td>\n",
       "      <td>Medium</td>\n",
       "    </tr>\n",
       "    <tr>\n",
       "      <th>2</th>\n",
       "      <td>10159</td>\n",
       "      <td>49</td>\n",
       "      <td>106.23</td>\n",
       "      <td>14</td>\n",
       "      <td>5205.27</td>\n",
       "      <td>2003-10-10</td>\n",
       "      <td>Shipped</td>\n",
       "      <td>4</td>\n",
       "      <td>10</td>\n",
       "      <td>2003</td>\n",
       "      <td>...</td>\n",
       "      <td>7734 Strong St.</td>\n",
       "      <td>NaN</td>\n",
       "      <td>San Francisco</td>\n",
       "      <td>CA</td>\n",
       "      <td>NaN</td>\n",
       "      <td>USA</td>\n",
       "      <td>NaN</td>\n",
       "      <td>Brown</td>\n",
       "      <td>Julie</td>\n",
       "      <td>Medium</td>\n",
       "    </tr>\n",
       "    <tr>\n",
       "      <th>3</th>\n",
       "      <td>10168</td>\n",
       "      <td>36</td>\n",
       "      <td>96.66</td>\n",
       "      <td>1</td>\n",
       "      <td>3479.76</td>\n",
       "      <td>2003-10-28</td>\n",
       "      <td>Shipped</td>\n",
       "      <td>4</td>\n",
       "      <td>10</td>\n",
       "      <td>2003</td>\n",
       "      <td>...</td>\n",
       "      <td>9408 Furth Circle</td>\n",
       "      <td>NaN</td>\n",
       "      <td>Burlingame</td>\n",
       "      <td>CA</td>\n",
       "      <td>94217</td>\n",
       "      <td>USA</td>\n",
       "      <td>NaN</td>\n",
       "      <td>Hirano</td>\n",
       "      <td>Juri</td>\n",
       "      <td>Medium</td>\n",
       "    </tr>\n",
       "    <tr>\n",
       "      <th>4</th>\n",
       "      <td>10201</td>\n",
       "      <td>22</td>\n",
       "      <td>98.57</td>\n",
       "      <td>2</td>\n",
       "      <td>2168.54</td>\n",
       "      <td>2003-12-01</td>\n",
       "      <td>Shipped</td>\n",
       "      <td>4</td>\n",
       "      <td>12</td>\n",
       "      <td>2003</td>\n",
       "      <td>...</td>\n",
       "      <td>5557 North Pendale Street</td>\n",
       "      <td>NaN</td>\n",
       "      <td>San Francisco</td>\n",
       "      <td>CA</td>\n",
       "      <td>NaN</td>\n",
       "      <td>USA</td>\n",
       "      <td>NaN</td>\n",
       "      <td>Murphy</td>\n",
       "      <td>Julie</td>\n",
       "      <td>Small</td>\n",
       "    </tr>\n",
       "  </tbody>\n",
       "</table>\n",
       "<p>5 rows × 25 columns</p>\n",
       "</div>"
      ],
      "text/plain": [
       "   order number  quantity ordered  price each  order line number    sales  \\\n",
       "0         10107                30       95.70                  2  2871.00   \n",
       "1         10145                45       83.26                  6  3746.70   \n",
       "2         10159                49      106.23                 14  5205.27   \n",
       "3         10168                36       96.66                  1  3479.76   \n",
       "4         10201                22       98.57                  2  2168.54   \n",
       "\n",
       "  order date   status  qtr_id  month_id  year_id  ...  \\\n",
       "0 2003-02-24  Shipped       1         2     2003  ...   \n",
       "1 2003-08-25  Shipped       3         8     2003  ...   \n",
       "2 2003-10-10  Shipped       4        10     2003  ...   \n",
       "3 2003-10-28  Shipped       4        10     2003  ...   \n",
       "4 2003-12-01  Shipped       4        12     2003  ...   \n",
       "\n",
       "               address line1  address line2           city state postal code  \\\n",
       "0    897 Long Airport Avenue            NaN            NYC    NY       10022   \n",
       "1         78934 Hillside Dr.            NaN       Pasadena    CA       90003   \n",
       "2            7734 Strong St.            NaN  San Francisco    CA         NaN   \n",
       "3          9408 Furth Circle            NaN     Burlingame    CA       94217   \n",
       "4  5557 North Pendale Street            NaN  San Francisco    CA         NaN   \n",
       "\n",
       "  country territory contact lastname contact firstname deal size  \n",
       "0     USA       NaN               Yu              Kwai     Small  \n",
       "1     USA       NaN            Young             Julie    Medium  \n",
       "2     USA       NaN            Brown             Julie    Medium  \n",
       "3     USA       NaN           Hirano              Juri    Medium  \n",
       "4     USA       NaN           Murphy             Julie     Small  \n",
       "\n",
       "[5 rows x 25 columns]"
      ]
     },
     "execution_count": 5,
     "metadata": {},
     "output_type": "execute_result"
    }
   ],
   "source": [
    "# Filter by country\n",
    "usa_sales = df[df['country'] == 'USA']\n",
    "usa_sales.head(5).reset_index(drop=True)"
   ]
  },
  {
   "cell_type": "code",
   "execution_count": 6,
   "metadata": {},
   "outputs": [
    {
     "data": {
      "text/html": [
       "<div>\n",
       "<style scoped>\n",
       "    .dataframe tbody tr th:only-of-type {\n",
       "        vertical-align: middle;\n",
       "    }\n",
       "\n",
       "    .dataframe tbody tr th {\n",
       "        vertical-align: top;\n",
       "    }\n",
       "\n",
       "    .dataframe thead th {\n",
       "        text-align: right;\n",
       "    }\n",
       "</style>\n",
       "<table border=\"1\" class=\"dataframe\">\n",
       "  <thead>\n",
       "    <tr style=\"text-align: right;\">\n",
       "      <th></th>\n",
       "      <th>country</th>\n",
       "      <th>city</th>\n",
       "      <th>state</th>\n",
       "      <th>sales</th>\n",
       "    </tr>\n",
       "  </thead>\n",
       "  <tbody>\n",
       "    <tr>\n",
       "      <th>0</th>\n",
       "      <td>USA</td>\n",
       "      <td>NYC</td>\n",
       "      <td>NY</td>\n",
       "      <td>2871.00</td>\n",
       "    </tr>\n",
       "    <tr>\n",
       "      <th>1</th>\n",
       "      <td>France</td>\n",
       "      <td>Reims</td>\n",
       "      <td>NaN</td>\n",
       "      <td>2765.90</td>\n",
       "    </tr>\n",
       "    <tr>\n",
       "      <th>2</th>\n",
       "      <td>France</td>\n",
       "      <td>Paris</td>\n",
       "      <td>NaN</td>\n",
       "      <td>3884.34</td>\n",
       "    </tr>\n",
       "    <tr>\n",
       "      <th>3</th>\n",
       "      <td>USA</td>\n",
       "      <td>Pasadena</td>\n",
       "      <td>CA</td>\n",
       "      <td>3746.70</td>\n",
       "    </tr>\n",
       "    <tr>\n",
       "      <th>4</th>\n",
       "      <td>USA</td>\n",
       "      <td>San Francisco</td>\n",
       "      <td>CA</td>\n",
       "      <td>5205.27</td>\n",
       "    </tr>\n",
       "    <tr>\n",
       "      <th>5</th>\n",
       "      <td>USA</td>\n",
       "      <td>Burlingame</td>\n",
       "      <td>CA</td>\n",
       "      <td>3479.76</td>\n",
       "    </tr>\n",
       "    <tr>\n",
       "      <th>6</th>\n",
       "      <td>France</td>\n",
       "      <td>Lille</td>\n",
       "      <td>NaN</td>\n",
       "      <td>2497.77</td>\n",
       "    </tr>\n",
       "    <tr>\n",
       "      <th>7</th>\n",
       "      <td>Norway</td>\n",
       "      <td>Bergen</td>\n",
       "      <td>NaN</td>\n",
       "      <td>5512.32</td>\n",
       "    </tr>\n",
       "    <tr>\n",
       "      <th>8</th>\n",
       "      <td>USA</td>\n",
       "      <td>San Francisco</td>\n",
       "      <td>CA</td>\n",
       "      <td>2168.54</td>\n",
       "    </tr>\n",
       "    <tr>\n",
       "      <th>9</th>\n",
       "      <td>France</td>\n",
       "      <td>Paris</td>\n",
       "      <td>NaN</td>\n",
       "      <td>4708.44</td>\n",
       "    </tr>\n",
       "  </tbody>\n",
       "</table>\n",
       "</div>"
      ],
      "text/plain": [
       "  country           city state    sales\n",
       "0     USA            NYC    NY  2871.00\n",
       "1  France          Reims   NaN  2765.90\n",
       "2  France          Paris   NaN  3884.34\n",
       "3     USA       Pasadena    CA  3746.70\n",
       "4     USA  San Francisco    CA  5205.27\n",
       "5     USA     Burlingame    CA  3479.76\n",
       "6  France          Lille   NaN  2497.77\n",
       "7  Norway         Bergen   NaN  5512.32\n",
       "8     USA  San Francisco    CA  2168.54\n",
       "9  France          Paris   NaN  4708.44"
      ]
     },
     "execution_count": 6,
     "metadata": {},
     "output_type": "execute_result"
    }
   ],
   "source": [
    "# On affiche certains colones qui nous sommes utile\n",
    "filter_location = df[['country', 'city', 'state','sales']]\n",
    "filter_location.head(10)"
   ]
  },
  {
   "cell_type": "code",
   "execution_count": 7,
   "metadata": {},
   "outputs": [
    {
     "data": {
      "text/plain": [
       "1486"
      ]
     },
     "execution_count": 7,
     "metadata": {},
     "output_type": "execute_result"
    }
   ],
   "source": [
    "# Vérifions le nombre des cellules vides sur la colonne 'state'\n",
    "\n",
    "sales_null = df['state'].isnull().sum()\n",
    "sales_null"
   ]
  },
  {
   "cell_type": "code",
   "execution_count": 8,
   "metadata": {},
   "outputs": [
    {
     "data": {
      "text/html": [
       "<div>\n",
       "<style scoped>\n",
       "    .dataframe tbody tr th:only-of-type {\n",
       "        vertical-align: middle;\n",
       "    }\n",
       "\n",
       "    .dataframe tbody tr th {\n",
       "        vertical-align: top;\n",
       "    }\n",
       "\n",
       "    .dataframe thead th {\n",
       "        text-align: right;\n",
       "    }\n",
       "</style>\n",
       "<table border=\"1\" class=\"dataframe\">\n",
       "  <thead>\n",
       "    <tr style=\"text-align: right;\">\n",
       "      <th></th>\n",
       "      <th>order number</th>\n",
       "      <th>quantity ordered</th>\n",
       "      <th>price each</th>\n",
       "      <th>order line number</th>\n",
       "      <th>sales</th>\n",
       "      <th>order date</th>\n",
       "      <th>status</th>\n",
       "      <th>qtr_id</th>\n",
       "      <th>month_id</th>\n",
       "      <th>year_id</th>\n",
       "      <th>...</th>\n",
       "      <th>address line1</th>\n",
       "      <th>address line2</th>\n",
       "      <th>city</th>\n",
       "      <th>state</th>\n",
       "      <th>postal code</th>\n",
       "      <th>country</th>\n",
       "      <th>territory</th>\n",
       "      <th>contact lastname</th>\n",
       "      <th>contact firstname</th>\n",
       "      <th>deal size</th>\n",
       "    </tr>\n",
       "  </thead>\n",
       "  <tbody>\n",
       "    <tr>\n",
       "      <th>0</th>\n",
       "      <td>10107</td>\n",
       "      <td>30</td>\n",
       "      <td>95.70</td>\n",
       "      <td>2</td>\n",
       "      <td>2871.00</td>\n",
       "      <td>2003-02-24</td>\n",
       "      <td>Shipped</td>\n",
       "      <td>1</td>\n",
       "      <td>2</td>\n",
       "      <td>2003</td>\n",
       "      <td>...</td>\n",
       "      <td>897 Long Airport Avenue</td>\n",
       "      <td>NaN</td>\n",
       "      <td>NYC</td>\n",
       "      <td>NY</td>\n",
       "      <td>10022</td>\n",
       "      <td>USA</td>\n",
       "      <td>NaN</td>\n",
       "      <td>Yu</td>\n",
       "      <td>Kwai</td>\n",
       "      <td>Small</td>\n",
       "    </tr>\n",
       "    <tr>\n",
       "      <th>1</th>\n",
       "      <td>10121</td>\n",
       "      <td>34</td>\n",
       "      <td>81.35</td>\n",
       "      <td>5</td>\n",
       "      <td>2765.90</td>\n",
       "      <td>2003-05-07</td>\n",
       "      <td>Shipped</td>\n",
       "      <td>2</td>\n",
       "      <td>5</td>\n",
       "      <td>2003</td>\n",
       "      <td>...</td>\n",
       "      <td>59 rue de l'Abbaye</td>\n",
       "      <td>NaN</td>\n",
       "      <td>Reims</td>\n",
       "      <td>NaN</td>\n",
       "      <td>51100</td>\n",
       "      <td>France</td>\n",
       "      <td>EMEA</td>\n",
       "      <td>Henriot</td>\n",
       "      <td>Paul</td>\n",
       "      <td>Small</td>\n",
       "    </tr>\n",
       "    <tr>\n",
       "      <th>2</th>\n",
       "      <td>10134</td>\n",
       "      <td>41</td>\n",
       "      <td>94.74</td>\n",
       "      <td>2</td>\n",
       "      <td>3884.34</td>\n",
       "      <td>2003-07-01</td>\n",
       "      <td>Shipped</td>\n",
       "      <td>3</td>\n",
       "      <td>7</td>\n",
       "      <td>2003</td>\n",
       "      <td>...</td>\n",
       "      <td>27 rue du Colonel Pierre Avia</td>\n",
       "      <td>NaN</td>\n",
       "      <td>Paris</td>\n",
       "      <td>NaN</td>\n",
       "      <td>75508</td>\n",
       "      <td>France</td>\n",
       "      <td>EMEA</td>\n",
       "      <td>Da Cunha</td>\n",
       "      <td>Daniel</td>\n",
       "      <td>Medium</td>\n",
       "    </tr>\n",
       "    <tr>\n",
       "      <th>3</th>\n",
       "      <td>10145</td>\n",
       "      <td>45</td>\n",
       "      <td>83.26</td>\n",
       "      <td>6</td>\n",
       "      <td>3746.70</td>\n",
       "      <td>2003-08-25</td>\n",
       "      <td>Shipped</td>\n",
       "      <td>3</td>\n",
       "      <td>8</td>\n",
       "      <td>2003</td>\n",
       "      <td>...</td>\n",
       "      <td>78934 Hillside Dr.</td>\n",
       "      <td>NaN</td>\n",
       "      <td>Pasadena</td>\n",
       "      <td>CA</td>\n",
       "      <td>90003</td>\n",
       "      <td>USA</td>\n",
       "      <td>NaN</td>\n",
       "      <td>Young</td>\n",
       "      <td>Julie</td>\n",
       "      <td>Medium</td>\n",
       "    </tr>\n",
       "    <tr>\n",
       "      <th>4</th>\n",
       "      <td>10159</td>\n",
       "      <td>49</td>\n",
       "      <td>106.23</td>\n",
       "      <td>14</td>\n",
       "      <td>5205.27</td>\n",
       "      <td>2003-10-10</td>\n",
       "      <td>Shipped</td>\n",
       "      <td>4</td>\n",
       "      <td>10</td>\n",
       "      <td>2003</td>\n",
       "      <td>...</td>\n",
       "      <td>7734 Strong St.</td>\n",
       "      <td>NaN</td>\n",
       "      <td>San Francisco</td>\n",
       "      <td>CA</td>\n",
       "      <td>0</td>\n",
       "      <td>USA</td>\n",
       "      <td>NaN</td>\n",
       "      <td>Brown</td>\n",
       "      <td>Julie</td>\n",
       "      <td>Medium</td>\n",
       "    </tr>\n",
       "  </tbody>\n",
       "</table>\n",
       "<p>5 rows × 25 columns</p>\n",
       "</div>"
      ],
      "text/plain": [
       "   order number  quantity ordered  price each  order line number    sales  \\\n",
       "0         10107                30       95.70                  2  2871.00   \n",
       "1         10121                34       81.35                  5  2765.90   \n",
       "2         10134                41       94.74                  2  3884.34   \n",
       "3         10145                45       83.26                  6  3746.70   \n",
       "4         10159                49      106.23                 14  5205.27   \n",
       "\n",
       "  order date   status  qtr_id  month_id  year_id  ...  \\\n",
       "0 2003-02-24  Shipped       1         2     2003  ...   \n",
       "1 2003-05-07  Shipped       2         5     2003  ...   \n",
       "2 2003-07-01  Shipped       3         7     2003  ...   \n",
       "3 2003-08-25  Shipped       3         8     2003  ...   \n",
       "4 2003-10-10  Shipped       4        10     2003  ...   \n",
       "\n",
       "                   address line1  address line2           city state  \\\n",
       "0        897 Long Airport Avenue            NaN            NYC    NY   \n",
       "1             59 rue de l'Abbaye            NaN          Reims   NaN   \n",
       "2  27 rue du Colonel Pierre Avia            NaN          Paris   NaN   \n",
       "3             78934 Hillside Dr.            NaN       Pasadena    CA   \n",
       "4                7734 Strong St.            NaN  San Francisco    CA   \n",
       "\n",
       "  postal code country territory contact lastname contact firstname deal size  \n",
       "0       10022     USA       NaN               Yu              Kwai     Small  \n",
       "1       51100  France      EMEA          Henriot              Paul     Small  \n",
       "2       75508  France      EMEA         Da Cunha            Daniel    Medium  \n",
       "3       90003     USA       NaN            Young             Julie    Medium  \n",
       "4           0     USA       NaN            Brown             Julie    Medium  \n",
       "\n",
       "[5 rows x 25 columns]"
      ]
     },
     "execution_count": 8,
     "metadata": {},
     "output_type": "execute_result"
    }
   ],
   "source": [
    "# On remplacer les valeurs vides de la colone 'postal code' par 0\n",
    "df['postal code'].fillna(0, inplace = True)\n",
    "df.head(5)"
   ]
  },
  {
   "cell_type": "code",
   "execution_count": 9,
   "metadata": {},
   "outputs": [
    {
     "name": "stdout",
     "output_type": "stream",
     "text": [
      "              city        sales\n",
      "0        New Haven  4674.827647\n",
      "1       Strasbourg  4233.604211\n",
      "2        Charleroi  4180.012500\n",
      "3      Bridgewater  4075.791600\n",
      "4        Liverpool  4069.250690\n",
      "5        Kobenhavn  4028.933333\n",
      "6         San Jose  4000.256750\n",
      "7             Lule  3987.098947\n",
      "8   South Brisbane  3964.608000\n",
      "9           Newark  3963.247143\n",
      "10       Allentown  3939.940000\n",
      "11          Nashua  3873.097059\n",
      "12       Frankfurt  3871.435909\n",
      "13            Koln  3857.945385\n",
      "14          Bergen  3849.664828\n",
      "15           Paris  3842.066857\n",
      "16           Espoo  3798.705000\n",
      "17          Gensve  3797.211613\n",
      "18       Minato-ku  3767.585625\n",
      "19        Salzburg  3744.965750\n",
      "20         Aaarhus  3725.761111\n",
      "21        Helsinki  3708.346000\n",
      "22             NYC  3689.393224\n",
      "23       Cambridge  3664.315789\n",
      "24   Reggio Emilia  3656.444359\n",
      "25       Melbourne  3654.462000\n",
      "26       Singapore  3651.752025\n",
      "27         Sevilla  3648.241333\n",
      "28         Stavern  3643.724688\n",
      "29      San Rafael  3638.100333\n",
      "..             ...          ...\n",
      "43        Pasadena  3485.398667\n",
      "44            Lyon  3484.737805\n",
      "45            Graz  3484.260000\n",
      "46           Lille  3452.620500\n",
      "47    Philadelphia  3436.116591\n",
      "48     Los Angeles  3432.032857\n",
      "49       Vancouver  3419.950909\n",
      "50       Barcelona  3409.211304\n",
      "51     New Bedford  3407.784590\n",
      "52          Nantes  3405.081000\n",
      "53           Osaka  3380.253500\n",
      "54        Montreal  3372.945000\n",
      "55        Brisbane  3347.900667\n",
      "56    North Sydney  3347.741957\n",
      "57            Oslo  3301.009583\n",
      "58       Chatswood  3295.021304\n",
      "59           Reims  3293.730244\n",
      "60    White Plains  3290.615000\n",
      "61          London  3284.830000\n",
      "62            Oulu  3261.574375\n",
      "63      Manchester  3094.270784\n",
      "64        Glendale  3019.262273\n",
      "65           Cowes  3009.263077\n",
      "66       Bruxelles  2998.900800\n",
      "67       Marseille  2997.445600\n",
      "68         Bergamo  2874.077500\n",
      "69       Tsawassen  2870.571154\n",
      "70       Las Vegas  2853.485517\n",
      "71    Glen Waverly  2808.324348\n",
      "72          Munich  2499.565714\n",
      "\n",
      "[73 rows x 2 columns]\n"
     ]
    }
   ],
   "source": [
    "# Affichons la moyenne des ventes par ville\n",
    "city_mean_sales = df.groupby(df['city'])['sales'].mean().reset_index()\n",
    "print(city_mean_sales.sort_values(by='sales', ascending = False).reset_index(drop=True))"
   ]
  },
  {
   "cell_type": "code",
   "execution_count": 10,
   "metadata": {},
   "outputs": [
    {
     "name": "stdout",
     "output_type": "stream",
     "text": [
      "              city       sales\n",
      "0           Madrid  1082551.44\n",
      "1       San Rafael   654858.06\n",
      "2              NYC   560787.77\n",
      "3        Singapore   288488.41\n",
      "4            Paris   268944.68\n",
      "5    San Francisco   224358.68\n",
      "6      New Bedford   207874.86\n",
      "7           Nantes   204304.86\n",
      "8        Melbourne   200995.41\n",
      "9       Brickhaven   165255.20\n",
      "10        San Jose   160010.27\n",
      "11      Manchester   157807.81\n",
      "12          Boston   154069.66\n",
      "13    North Sydney   153996.13\n",
      "14       Chatswood   151570.98\n",
      "15    Philadelphia   151189.13\n",
      "16        Salzburg   149798.63\n",
      "17       Kobenhavn   145041.60\n",
      "18            Lyon   142874.25\n",
      "19   Reggio Emilia   142601.33\n",
      "20       Cambridge   139244.00\n",
      "21         Bergamo   137955.72\n",
      "22           Reims   135042.94\n",
      "23           Boras   134259.33\n",
      "24          Nashua   131685.30\n",
      "25          London   124823.54\n",
      "26       Allentown   122138.14\n",
      "27      Burlingame   120783.07\n",
      "28       Minato-ku   120562.74\n",
      "29       Liverpool   118008.27\n",
      "..             ...         ...\n",
      "43    White Plains    85555.99\n",
      "44       Frankfurt    85171.59\n",
      "45          Newark    83228.19\n",
      "46       Las Vegas    82751.08\n",
      "47      Strasbourg    80438.48\n",
      "48       New Haven    79472.07\n",
      "49            Oslo    79224.23\n",
      "50       Barcelona    78411.86\n",
      "51           Cowes    78240.84\n",
      "52            Lule    75754.88\n",
      "53       Vancouver    75238.92\n",
      "54       Bruxelles    74972.52\n",
      "55       Marseille    74936.14\n",
      "56       Tsawassen    74634.85\n",
      "57        Montreal    74204.79\n",
      "58        Toulouse    70488.44\n",
      "59           Lille    69052.41\n",
      "60           Osaka    67605.07\n",
      "61        Glendale    66423.77\n",
      "62      Versailles    64834.32\n",
      "63    Glen Waverly    64591.46\n",
      "64  South Brisbane    59469.12\n",
      "65          Dublin    57756.43\n",
      "66         Sevilla    54723.62\n",
      "67            Graz    52263.90\n",
      "68        Brisbane    50218.51\n",
      "69     Los Angeles    48048.46\n",
      "70         Burbank    46084.64\n",
      "71          Munich    34993.92\n",
      "72       Charleroi    33440.10\n",
      "\n",
      "[73 rows x 2 columns]\n"
     ]
    }
   ],
   "source": [
    "# Affichons la somme des ventes par ville\n",
    "city_sum_sales = df.groupby(df['city'])['sales'].sum().reset_index()\n",
    "print(city_sum_sales.sort_values(by='sales', ascending = False).reset_index(drop=True))"
   ]
  },
  {
   "cell_type": "code",
   "execution_count": 11,
   "metadata": {},
   "outputs": [
    {
     "name": "stdout",
     "output_type": "stream",
     "text": [
      "        country        sales\n",
      "0       Denmark  3899.002381\n",
      "1   Switzerland  3797.211613\n",
      "2        Sweden  3684.459825\n",
      "3       Austria  3673.864182\n",
      "4     Singapore  3651.752025\n",
      "5         Japan  3618.611731\n",
      "6        Norway  3617.220000\n",
      "7   Philippines  3615.989615\n",
      "8           USA  3613.528715\n",
      "9       Ireland  3609.776875\n",
      "10      Finland  3582.412065\n",
      "11      Germany  3556.001452\n",
      "12        Spain  3554.640117\n",
      "13       France  3537.950701\n",
      "14    Australia  3408.773514\n",
      "15           UK  3325.558750\n",
      "16        Italy  3315.701858\n",
      "17      Belgium  3285.230909\n",
      "18       Canada  3201.122286\n"
     ]
    }
   ],
   "source": [
    "# Affichons la moyenne des ventes par pays\n",
    "country_mean_sales = df.groupby(df['country'])['sales'].mean().reset_index()\n",
    "print(country_mean_sales.sort_values(by='sales', ascending = False).reset_index(drop=True))"
   ]
  },
  {
   "cell_type": "code",
   "execution_count": 12,
   "metadata": {},
   "outputs": [
    {
     "name": "stdout",
     "output_type": "stream",
     "text": [
      "        country       sales\n",
      "0           USA  3627982.83\n",
      "1         Spain  1215686.92\n",
      "2        France  1110916.52\n",
      "3     Australia   630623.10\n",
      "4            UK   478880.46\n",
      "5         Italy   374674.31\n",
      "6       Finland   329581.91\n",
      "7        Norway   307463.70\n",
      "8     Singapore   288488.41\n",
      "9       Denmark   245637.15\n",
      "10       Canada   224078.56\n",
      "11      Germany   220472.09\n",
      "12       Sweden   210014.21\n",
      "13      Austria   202062.53\n",
      "14        Japan   188167.81\n",
      "15  Switzerland   117713.56\n",
      "16      Belgium   108412.62\n",
      "17  Philippines    94015.73\n",
      "18      Ireland    57756.43\n"
     ]
    }
   ],
   "source": [
    "# Affichons la somme des ventes par pays\n",
    "country_sum_sales = df.groupby(df['country'])['sales'].sum().reset_index()\n",
    "print(country_sum_sales.sort_values(by='sales', ascending = False).reset_index(drop=True))"
   ]
  },
  {
   "cell_type": "code",
   "execution_count": 13,
   "metadata": {},
   "outputs": [
    {
     "name": "stdout",
     "output_type": "stream",
     "text": [
      "        country  quantity ordered       sales\n",
      "0           USA             35659  3627982.83\n",
      "1         Spain             12429  1215686.92\n",
      "2        France             11090  1110916.52\n",
      "3     Australia              6246   630623.10\n",
      "4            UK              5013   478880.46\n",
      "5         Italy              3773   374674.31\n",
      "6       Finland              3192   329581.91\n",
      "7        Norway              2842   307463.70\n",
      "8     Singapore              2760   288488.41\n",
      "9       Denmark              2197   245637.15\n",
      "10       Canada              2293   224078.56\n",
      "11      Germany              2148   220472.09\n",
      "12       Sweden              2006   210014.21\n",
      "13      Austria              1974   202062.53\n",
      "14        Japan              1842   188167.81\n",
      "15  Switzerland              1078   117713.56\n",
      "16      Belgium              1074   108412.62\n",
      "17  Philippines               961    94015.73\n",
      "18      Ireland               490    57756.43\n"
     ]
    }
   ],
   "source": [
    "# Somme des ventes et des quantités de produit par pays\n",
    "quantityOrdered_by_country = df.groupby(df['country'])['quantity ordered','sales'].sum().reset_index()\n",
    "print(quantityOrdered_by_country.sort_values(by='sales', ascending=False).reset_index(drop=True))"
   ]
  },
  {
   "cell_type": "code",
   "execution_count": 14,
   "metadata": {},
   "outputs": [
    {
     "name": "stdout",
     "output_type": "stream",
     "text": [
      "  deal size  Total Sales\n",
      "0    Medium   6087432.24\n",
      "1     Small   2643077.35\n",
      "2     Large   1302119.26\n"
     ]
    }
   ],
   "source": [
    "# Total des ventes par taille d'affaire(Deal Size)\n",
    "sales_by_dealSize = df.groupby(df['deal size'])['sales'].sum().reset_index()\n",
    "sales_by_dealSize = sales_by_dealSize.rename(columns={'index':'deal size', 'sales':'Total Sales'})\n",
    "print(sales_by_dealSize.sort_values(by='Total Sales', ascending=False).reset_index(drop=True))"
   ]
  },
  {
   "cell_type": "code",
   "execution_count": 15,
   "metadata": {},
   "outputs": [
    {
     "data": {
      "image/png": "[encoded data removed]",
      "text/plain": [
       "<Figure size 432x288 with 1 Axes>"
      ]
     },
     "metadata": {},
     "output_type": "display_data"
    }
   ],
   "source": [
    "# Tracer d'un diagramme en camembert\n",
    "\n",
    "my_explode = [0, 0.2, 0]\n",
    "plt.pie(sales_by_dealSize['Total Sales'], labels=sales_by_dealSize['deal size'], autopct = '%1.1f%%', explode=my_explode)\n",
    "\n",
    "#labels\n",
    "plt.title('Total Sales by deal size')\n",
    "plt.legend(title='deal size')\n",
    "\n",
    "plt.show()"
   ]
  },
  {
   "cell_type": "code",
   "execution_count": 16,
   "metadata": {},
   "outputs": [
    {
     "name": "stdout",
     "output_type": "stream",
     "text": [
      "  deal size  Total deal size\n",
      "0    Medium             1384\n",
      "1     Small             1282\n",
      "2     Large              157\n"
     ]
    },
    {
     "data": {
      "image/png": "[encoded data removed]",
      "text/plain": [
       "<Figure size 432x288 with 1 Axes>"
      ]
     },
     "metadata": {},
     "output_type": "display_data"
    }
   ],
   "source": [
    "# on veux savoir le type d'affaire le plus populaire dans notre dataset\n",
    "\n",
    "number_of_customer = df['deal size'].value_counts().reset_index()\n",
    "\n",
    "number_of_customer = number_of_customer.rename(columns={'index':'deal size', 'deal size':'Total deal size'})\n",
    "print(number_of_customer.sort_values(by='Total deal size', ascending=False).reset_index(drop=True))\n",
    "\n",
    "plt.pie(number_of_customer['Total deal size'], labels=number_of_customer['deal size'], autopct = '%1.1f%%')\n",
    "\n",
    "#labels\n",
    "plt.title(\"Taille d'affaire\")\n",
    "plt.legend(title='deal size')\n",
    "\n",
    "plt.show()"
   ]
  },
  {
   "cell_type": "code",
   "execution_count": 17,
   "metadata": {},
   "outputs": [
    {
     "name": "stdout",
     "output_type": "stream",
     "text": [
      "       status  Total status\n",
      "0     Shipped          2617\n",
      "1   Cancelled            60\n",
      "2    Resolved            47\n",
      "3     On Hold            44\n",
      "4  In Process            41\n",
      "5    Disputed            14\n"
     ]
    },
    {
     "data": {
      "image/png": "[encoded data removed]",
      "text/plain": [
       "<Figure size 432x288 with 1 Axes>"
      ]
     },
     "metadata": {
      "needs_background": "light"
     },
     "output_type": "display_data"
    }
   ],
   "source": [
    "# on veut savoir le statut de nos produits le plus populaire\n",
    "\n",
    "number_of_status = df['status'].value_counts().reset_index()\n",
    "number_of_status = number_of_status.rename(columns={'index':'status', 'status':'Total status'})\n",
    "print(number_of_status.sort_values(by='Total status', ascending=False).reset_index(drop=True))\n",
    "\n",
    "plt.bar(number_of_status['status'],number_of_status['Total status'])\n",
    "\n",
    "#labels\n",
    "plt.title('Popular status')\n",
    "plt.xlabel('status')\n",
    "plt.ylabel('Total status')\n",
    "\n",
    "\n",
    "plt.show()"
   ]
  },
  {
   "cell_type": "code",
   "execution_count": 18,
   "metadata": {},
   "outputs": [
    {
     "name": "stdout",
     "output_type": "stream",
     "text": [
      "       status  Total sales\n",
      "0     Shipped   9291501.08\n",
      "1   Cancelled    194487.48\n",
      "2     On Hold    178979.19\n",
      "3    Resolved    150718.28\n",
      "4  In Process    144729.96\n",
      "5    Disputed     72212.86\n"
     ]
    }
   ],
   "source": [
    "# on veut savoir la somme des ventes par leurs statuts \n",
    "\n",
    "sales_by_status = df.groupby(['status'])['sales'].sum().reset_index()\n",
    "sales_by_status = sales_by_status.rename(columns={'index':'status', 'sales':'Total sales'})\n",
    "print(sales_by_status.sort_values(by='Total sales', ascending=False).reset_index(drop=True))\n",
    "\n"
   ]
  },
  {
   "cell_type": "code",
   "execution_count": 19,
   "metadata": {},
   "outputs": [
    {
     "name": "stdout",
     "output_type": "stream",
     "text": [
      "[2003 2004 2005]\n"
     ]
    }
   ],
   "source": [
    "# Pour savoir les différentes années sur notre dataframe \n",
    "year = df['year_id'].unique()\n",
    "print(year)"
   ]
  },
  {
   "cell_type": "code",
   "execution_count": 20,
   "metadata": {},
   "outputs": [
    {
     "name": "stdout",
     "output_type": "stream",
     "text": [
      "   year_id  Total Sales\n",
      "0     2004   4724162.60\n",
      "1     2003   3516979.54\n",
      "2     2005   1791486.71\n"
     ]
    }
   ],
   "source": [
    "# Affichons les ventes par années \n",
    "\n",
    "sales_by_year = df.groupby(['year_id'])['sales'].sum().reset_index()\n",
    "sales_by_year = sales_by_year.rename(columns={'index':'year', 'sales':'Total Sales'})\n",
    "print(sales_by_year.sort_values(by='Total Sales', ascending=False).reset_index(drop=True))"
   ]
  },
  {
   "cell_type": "code",
   "execution_count": 21,
   "metadata": {},
   "outputs": [
    {
     "data": {
      "image/png": "[encoded data removed]",
      "text/plain": [
       "<Figure size 432x288 with 1 Axes>"
      ]
     },
     "metadata": {
      "needs_background": "light"
     },
     "output_type": "display_data"
    }
   ],
   "source": [
    "# graph en barres\n",
    "plt.bar(sales_by_year['year_id'], sales_by_year['Total Sales'])\n",
    "\n",
    "\n",
    "# étiquettes \n",
    "plt.title('Sales by year')\n",
    "plt.xlabel('Year')\n",
    "plt.ylabel('Sum of sales')\n",
    "plt.show()"
   ]
  },
  {
   "cell_type": "code",
   "execution_count": 22,
   "metadata": {},
   "outputs": [
    {
     "data": {
      "text/plain": [
       "(array([2002.75, 2003.  , 2003.25, 2003.5 , 2003.75, 2004.  , 2004.25,\n",
       "        2004.5 , 2004.75, 2005.  , 2005.25]),\n",
       " <a list of 11 Text xticklabel objects>)"
      ]
     },
     "execution_count": 22,
     "metadata": {},
     "output_type": "execute_result"
    },
    {
     "data": {
      "image/png": "[encoded data removed]",
      "text/plain": [
       "<Figure size 432x288 with 1 Axes>"
      ]
     },
     "metadata": {
      "needs_background": "light"
     },
     "output_type": "display_data"
    }
   ],
   "source": [
    "plt.plot(sales_by_year['year_id'], sales_by_year['Total Sales'], 'o-.', color='hotpink')\n",
    "plt.xticks(rotation=60)"
   ]
  },
  {
   "cell_type": "markdown",
   "metadata": {},
   "source": [
    "### Tendances des ventes \n"
   ]
  },
  {
   "cell_type": "markdown",
   "metadata": {},
   "source": [
    "#### Observation globale des ventes par trimestre de 2003 à 2005 "
   ]
  },
  {
   "cell_type": "code",
   "execution_count": 23,
   "metadata": {},
   "outputs": [
    {
     "name": "stdout",
     "output_type": "stream",
     "text": [
      "  order date  Total de ventes par trimestre\n",
      "0 2003-03-31                      445094.69\n",
      "1 2003-06-30                      562365.22\n",
      "2 2003-09-30                      649514.54\n",
      "3 2003-12-31                     1860005.09\n",
      "4 2004-03-31                      833730.68\n",
      "5 2004-06-30                      766260.73\n",
      "6 2004-09-30                     1109396.27\n",
      "7 2004-12-31                     2014774.92\n",
      "8 2005-03-31                     1071992.36\n",
      "9 2005-06-30                      719494.35\n"
     ]
    },
    {
     "name": "stderr",
     "output_type": "stream",
     "text": [
      "C:\\Users\\user\\Anaconda3\\lib\\site-packages\\pandas\\plotting\\_converter.py:129: FutureWarning: Using an implicitly registered datetime converter for a matplotlib plotting method. The converter was registered by pandas on import. Future versions of pandas will require you to explicitly register matplotlib converters.\n",
      "\n",
      "To register the converters:\n",
      "\t>>> from pandas.plotting import register_matplotlib_converters\n",
      "\t>>> register_matplotlib_converters()\n",
      "  warnings.warn(msg, FutureWarning)\n"
     ]
    },
    {
     "data": {
      "image/png": "[encoded data removed]",
      "text/plain": [
       "<Figure size 432x288 with 1 Axes>"
      ]
     },
     "metadata": {
      "needs_background": "light"
     },
     "output_type": "display_data"
    }
   ],
   "source": [
    "sommes_ventes_trimestres = df.resample('Q', on='order date')['sales'].sum().reset_index()\n",
    "sommes_ventes_trimestres = sommes_ventes_trimestres.rename(columns={'index':'order date', 'sales':'Total de ventes par trimestre'})\n",
    "print(sommes_ventes_trimestres.sort_values(by='order date', ascending=True).reset_index(drop=True))\n",
    "\n",
    "plt.plot(sommes_ventes_trimestres['order date'], sommes_ventes_trimestres['Total de ventes par trimestre'], 'o-.', color='purple')\n",
    "\n",
    "plt.title('Total de ventes par trimestre')\n",
    "plt.xlabel('Trimestres')\n",
    "plt.ylabel('Somme des ventes')\n",
    "plt.xticks(rotation=50)\n",
    "plt.show()"
   ]
  },
  {
   "cell_type": "markdown",
   "metadata": {},
   "source": [
    "#### Ventes trimestrilles de 2003"
   ]
  },
  {
   "cell_type": "code",
   "execution_count": 24,
   "metadata": {},
   "outputs": [
    {
     "name": "stdout",
     "output_type": "stream",
     "text": [
      "Voici les ventes par trimestre de 2003 :\n",
      "  order date  Ventes par trimestre de 2003\n",
      "0 2003-12-31                    1860005.09\n",
      "1 2003-09-30                     649514.54\n",
      "2 2003-06-30                     562365.22\n",
      "3 2003-03-31                     445094.69\n"
     ]
    },
    {
     "data": {
      "image/png": "[encoded data removed]",
      "text/plain": [
       "<Figure size 432x288 with 1 Axes>"
      ]
     },
     "metadata": {
      "needs_background": "light"
     },
     "output_type": "display_data"
    }
   ],
   "source": [
    "# Pour analyser les tendances de vents de 2003 il faut filtrer nos données en fonctions de l'année\n",
    "\n",
    "# trions les données en 2003\n",
    "year_sales_2003 = df[df['order date'].dt.year == 2003]\n",
    "#print(year_sales_2003.head(5))\n",
    "\n",
    "# Observons les tendances par trimestre\n",
    "trimestre_sales_2003 = year_sales_2003.resample('Q', on='order date')['sales'].sum().reset_index()\n",
    "trimestre_sales_2003 = trimestre_sales_2003.rename(columns={'index':'order date', 'sales': 'Ventes par trimestre de 2003'})\n",
    "\n",
    "print('Voici les ventes par trimestre de 2003 :')\n",
    "print(trimestre_sales_2003.sort_values(by='Ventes par trimestre de 2003', ascending=False).reset_index(drop = True))\n",
    "\n",
    "plt.plot(trimestre_sales_2003['order date'], trimestre_sales_2003['Ventes par trimestre de 2003'], 'o-.', color='green')\n",
    "\n",
    "plt.title('Ventes par trimestrielle 2003')\n",
    "plt.xlabel('Order Date')\n",
    "plt.ylabel('Total des vesntes')\n",
    "plt.xticks(rotation = 50)\n",
    "plt.show()"
   ]
  },
  {
   "cell_type": "markdown",
   "metadata": {},
   "source": [
    "####  Ventes trimestrilles de  2004"
   ]
  },
  {
   "cell_type": "code",
   "execution_count": 25,
   "metadata": {},
   "outputs": [
    {
     "name": "stdout",
     "output_type": "stream",
     "text": [
      "  order date  Ventes par trimestre de 2004\n",
      "0 2004-12-31                    2014774.92\n",
      "1 2004-09-30                    1109396.27\n",
      "2 2004-03-31                     833730.68\n",
      "3 2004-06-30                     766260.73\n"
     ]
    },
    {
     "data": {
      "image/png": "[encoded data removed]",
      "text/plain": [
       "<Figure size 432x288 with 1 Axes>"
      ]
     },
     "metadata": {
      "needs_background": "light"
     },
     "output_type": "display_data"
    }
   ],
   "source": [
    "# Convert in date\n",
    "df['order date'] = pd.to_datetime(df['order date'], dayfirst=True)\n",
    "\n",
    "# filtrons les ventes de 2004\n",
    "year_sales_2004 = df[df['order date'].dt.year == 2004]  \n",
    "\n",
    "trimestre_sales_2004 = year_sales_2004.resample('Q', on='order date')['sales'].sum().reset_index()\n",
    "trimestre_sales_2004 = trimestre_sales_2004.rename(columns={'index':'Order date', 'sales':'Ventes par trimestre de 2004'})\n",
    "print(trimestre_sales_2004.sort_values(by='Ventes par trimestre de 2004', ascending=False).reset_index(drop=True))\n",
    "\n",
    "plt.plot(trimestre_sales_2004['order date'], trimestre_sales_2004['Ventes par trimestre de 2004'], 'o-.', color='red')\n",
    "\n",
    "plt.title('Ventes par trimestrielles')\n",
    "plt.xlabel('Order Date')\n",
    "plt.ylabel('Total des ventes')\n",
    "plt.xticks(rotation = 50)\n",
    "plt.show()"
   ]
  },
  {
   "cell_type": "markdown",
   "metadata": {},
   "source": [
    "#### Ventes trimestrilles de 2005"
   ]
  },
  {
   "cell_type": "code",
   "execution_count": 26,
   "metadata": {},
   "outputs": [
    {
     "name": "stdout",
     "output_type": "stream",
     "text": [
      "  order date  Ventes par trimestre de 2005\n",
      "0 2005-03-31                    1071992.36\n",
      "1 2005-06-30                     719494.35\n"
     ]
    },
    {
     "data": {
      "image/png": "[encoded data removed]",
      "text/plain": [
       "<Figure size 432x288 with 1 Axes>"
      ]
     },
     "metadata": {
      "needs_background": "light"
     },
     "output_type": "display_data"
    }
   ],
   "source": [
    "# Convert in date\n",
    "df['order date'] = pd.to_datetime(df['order date'], dayfirst=True)\n",
    "\n",
    "# filtrons les ventes de 2005\n",
    "year_sales_2005 = df[df['order date'].dt.year == 2005]  \n",
    "\n",
    "trimestre_sales_2005 = year_sales_2005.resample('Q', on='order date')['sales'].sum().reset_index()\n",
    "trimestre_sales_2005 = trimestre_sales_2005.rename(columns={'index':'Order date', 'sales':'Ventes par trimestre de 2005'})\n",
    "print(trimestre_sales_2005.sort_values(by='Ventes par trimestre de 2005', ascending=False).reset_index(drop=True))\n",
    "\n",
    "plt.plot(trimestre_sales_2005['order date'], trimestre_sales_2005['Ventes par trimestre de 2005'], 'o-.', color='red')\n",
    "\n",
    "plt.title('Ventes par trimestrielles')\n",
    "plt.xlabel('Order Date')\n",
    "plt.ylabel('Total des ventes')\n",
    "plt.xticks(rotation = 50)\n",
    "plt.show()"
   ]
  },
  {
   "cell_type": "markdown",
   "metadata": {},
   "source": [
    "## Observation des tendances par mois "
   ]
  },
  {
   "cell_type": "markdown",
   "metadata": {},
   "source": [
    "#### Observation globale des ventes par mois de 2003 à 2005"
   ]
  },
  {
   "cell_type": "code",
   "execution_count": 27,
   "metadata": {
    "scrolled": false
   },
   "outputs": [
    {
     "name": "stdout",
     "output_type": "stream",
     "text": [
      "   order date  Total de ventes par trimestre\n",
      "0  2003-01-31                      129753.60\n",
      "1  2003-02-28                      140836.19\n",
      "2  2003-03-31                      174504.90\n",
      "3  2003-04-30                      201609.55\n",
      "4  2003-05-31                      192673.11\n",
      "5  2003-06-30                      168082.56\n",
      "6  2003-07-31                      187731.88\n",
      "7  2003-08-31                      197809.30\n",
      "8  2003-09-30                      263973.36\n",
      "9  2003-10-31                      568290.97\n",
      "10 2003-11-30                     1029837.66\n",
      "11 2003-12-31                      261876.46\n",
      "12 2004-01-31                      316577.42\n",
      "13 2004-02-29                      311419.53\n",
      "14 2004-03-31                      205733.73\n",
      "15 2004-04-30                      206148.12\n",
      "16 2004-05-31                      273438.39\n",
      "17 2004-06-30                      286674.22\n",
      "18 2004-07-31                      327144.09\n",
      "19 2004-08-31                      461501.27\n",
      "20 2004-09-30                      320750.91\n",
      "21 2004-10-31                      552924.25\n",
      "22 2004-11-30                     1089048.01\n",
      "23 2004-12-31                      372802.66\n",
      "24 2005-01-31                      339543.42\n",
      "25 2005-02-28                      358186.18\n",
      "26 2005-03-31                      374262.76\n",
      "27 2005-04-30                      261633.29\n",
      "28 2005-05-31                      457861.06\n"
     ]
    },
    {
     "data": {
      "image/png": "[encoded data removed]",
      "text/plain": [
       "<Figure size 432x288 with 1 Axes>"
      ]
     },
     "metadata": {
      "needs_background": "light"
     },
     "output_type": "display_data"
    }
   ],
   "source": [
    "sommes_ventes_mensuelles = df.resample('M', on='order date')['sales'].sum().reset_index()\n",
    "sommes_ventes_mensuelles = sommes_ventes_mensuelles.rename(columns={'index':'order date', 'sales':'Total de ventes par trimestre'})\n",
    "print(sommes_ventes_mensuelles.sort_values(by='order date', ascending=True).reset_index(drop=True))\n",
    "\n",
    "plt.plot(sommes_ventes_mensuelles['order date'], sommes_ventes_mensuelles['Total de ventes par trimestre'], 'o-.', color='olive')\n",
    "\n",
    "plt.title('Total de ventes par mois')\n",
    "plt.xlabel('Mois')\n",
    "plt.ylabel('Somme des ventes')\n",
    "plt.xticks(rotation=50)\n",
    "plt.show()"
   ]
  },
  {
   "cell_type": "markdown",
   "metadata": {},
   "source": [
    "#### Les mois de 2003"
   ]
  },
  {
   "cell_type": "code",
   "execution_count": 28,
   "metadata": {},
   "outputs": [
    {
     "name": "stdout",
     "output_type": "stream",
     "text": [
      "   order date  Ventes mensuelles de 2003\n",
      "0  2003-01-31                  129753.60\n",
      "1  2003-02-28                  140836.19\n",
      "2  2003-03-31                  174504.90\n",
      "3  2003-04-30                  201609.55\n",
      "4  2003-05-31                  192673.11\n",
      "5  2003-06-30                  168082.56\n",
      "6  2003-07-31                  187731.88\n",
      "7  2003-08-31                  197809.30\n",
      "8  2003-09-30                  263973.36\n",
      "9  2003-10-31                  568290.97\n",
      "10 2003-11-30                 1029837.66\n",
      "11 2003-12-31                  261876.46\n"
     ]
    },
    {
     "data": {
      "image/png": "[encoded data removed]",
      "text/plain": [
       "<Figure size 432x288 with 1 Axes>"
      ]
     },
     "metadata": {
      "needs_background": "light"
     },
     "output_type": "display_data"
    }
   ],
   "source": [
    "# Convert in date\n",
    "df['order date'] = pd.to_datetime(df['order date'], dayfirst=True)\n",
    "\n",
    "# filtrons les ventes de 2004\n",
    "ventes_mensuelles_2003 = df[df['order date'].dt.year == 2003]  \n",
    "\n",
    "ventes_mensuelles_2003 = ventes_mensuelles_2003.resample('M', on='order date')['sales'].sum().reset_index()\n",
    "ventes_mensuelles_2003 = ventes_mensuelles_2003.rename(columns={'index':'Order date', 'sales':'Ventes mensuelles de 2003'})\n",
    "print(ventes_mensuelles_2003.sort_values(by='order date', ascending=True).reset_index(drop=True))\n",
    "\n",
    "plt.plot(ventes_mensuelles_2003['order date'], ventes_mensuelles_2003['Ventes mensuelles de 2003'], 'o-.', color='maroon')\n",
    "\n",
    "plt.title('Ventes mensuelles 2003')\n",
    "plt.xlabel('Order Date')\n",
    "plt.ylabel('Total des ventes')\n",
    "plt.xticks(rotation = 70)\n",
    "plt.show()"
   ]
  },
  {
   "cell_type": "markdown",
   "metadata": {},
   "source": [
    "#### Les mois de 2004"
   ]
  },
  {
   "cell_type": "code",
   "execution_count": 29,
   "metadata": {},
   "outputs": [
    {
     "name": "stdout",
     "output_type": "stream",
     "text": [
      "   order date  Ventes mensuelles de 2004\n",
      "0  2004-01-31                  316577.42\n",
      "1  2004-02-29                  311419.53\n",
      "2  2004-03-31                  205733.73\n",
      "3  2004-04-30                  206148.12\n",
      "4  2004-05-31                  273438.39\n",
      "5  2004-06-30                  286674.22\n",
      "6  2004-07-31                  327144.09\n",
      "7  2004-08-31                  461501.27\n",
      "8  2004-09-30                  320750.91\n",
      "9  2004-10-31                  552924.25\n",
      "10 2004-11-30                 1089048.01\n",
      "11 2004-12-31                  372802.66\n"
     ]
    },
    {
     "data": {
      "image/png": "[encoded data removed]",
      "text/plain": [
       "<Figure size 432x288 with 1 Axes>"
      ]
     },
     "metadata": {
      "needs_background": "light"
     },
     "output_type": "display_data"
    }
   ],
   "source": [
    "# Convert in date\n",
    "df['order date'] = pd.to_datetime(df['order date'], dayfirst=True)\n",
    "\n",
    "#ventes_mensuelles_2004 #Ventes mensuelles 2004\n",
    "\n",
    "# filtrons les ventes de 2004\n",
    "ventes_mensuelles_2004 = df[df['order date'].dt.year == 2004]  \n",
    "\n",
    "ventes_mensuelles_2004 = ventes_mensuelles_2004.resample('M', on='order date')['sales'].sum().reset_index()\n",
    "ventes_mensuelles_2004 = ventes_mensuelles_2004.rename(columns={'index':'Order date', 'sales':'Ventes mensuelles de 2004'})\n",
    "print(ventes_mensuelles_2004.sort_values(by='order date', ascending=True).reset_index(drop=True))\n",
    "\n",
    "plt.plot(ventes_mensuelles_2004['order date'], ventes_mensuelles_2004['Ventes mensuelles de 2004'], 'o-.', color='#008080')\n",
    "\n",
    "plt.title('Ventes mensuelles 2004')\n",
    "plt.xlabel('Order Date')\n",
    "plt.ylabel('Total des ventes')\n",
    "plt.xticks(rotation = 70)\n",
    "plt.show()"
   ]
  },
  {
   "cell_type": "markdown",
   "metadata": {},
   "source": [
    "#### Les mois de 2005"
   ]
  },
  {
   "cell_type": "code",
   "execution_count": 30,
   "metadata": {},
   "outputs": [
    {
     "name": "stdout",
     "output_type": "stream",
     "text": [
      "  order date  Ventes mensuelles de 2005\n",
      "0 2005-01-31                  339543.42\n",
      "1 2005-02-28                  358186.18\n",
      "2 2005-03-31                  374262.76\n",
      "3 2005-04-30                  261633.29\n",
      "4 2005-05-31                  457861.06\n"
     ]
    },
    {
     "data": {
      "image/png": "[encoded data removed]",
      "text/plain": [
       "<Figure size 432x288 with 1 Axes>"
      ]
     },
     "metadata": {
      "needs_background": "light"
     },
     "output_type": "display_data"
    }
   ],
   "source": [
    "# Convert in date\n",
    "df['order date'] = pd.to_datetime(df['order date'], dayfirst=True)\n",
    "\n",
    "# filtrons les ventes de 2005\n",
    "ventes_mensuelles_2005 = df[df['order date'].dt.year == 2005]  \n",
    "\n",
    "ventes_mensuelles_2005 = ventes_mensuelles_2005.resample('M', on='order date')['sales'].sum().reset_index()\n",
    "ventes_mensuelles_2005 = ventes_mensuelles_2005.rename(columns={'index':'Order date', 'sales':'Ventes mensuelles de 2005'})\n",
    "print(ventes_mensuelles_2005.sort_values(by='order date', ascending=True).reset_index(drop=True))\n",
    "\n",
    "plt.plot(ventes_mensuelles_2005['order date'], ventes_mensuelles_2005['Ventes mensuelles de 2005'], 'o-.', color='brown')\n",
    "\n",
    "plt.title('Ventes mensuelles 2005')\n",
    "plt.xlabel('Order Date')\n",
    "plt.ylabel('Total des ventes')\n",
    "plt.xticks(rotation = 70)\n",
    "plt.show()"
   ]
  },
  {
   "cell_type": "code",
   "execution_count": 31,
   "metadata": {},
   "outputs": [
    {
     "data": {
      "image/png": "[encoded data removed]",
      "text/plain": [
       "<Figure size 432x288 with 1 Axes>"
      ]
     },
     "metadata": {
      "needs_background": "light"
     },
     "output_type": "display_data"
    }
   ],
   "source": [
    "# une autre façons de répresenter l'ensemble des ventes mensuelles de 2003 à 2005\n",
    "\n",
    "plt.plot(ventes_mensuelles_2003['order date'], ventes_mensuelles_2003['Ventes mensuelles de 2003'], 'o-.', color='blue', label='2003')\n",
    "plt.plot(ventes_mensuelles_2004['order date'], ventes_mensuelles_2004['Ventes mensuelles de 2004'], 'o-.', color='green', label='2004')\n",
    "plt.plot(ventes_mensuelles_2005['order date'], ventes_mensuelles_2005['Ventes mensuelles de 2005'], 'o-.', color='red', label='2005')\n",
    "\n",
    "plt.title('Ventes mensuelles 2003 à 2005')\n",
    "plt.xlabel('Order Date')\n",
    "plt.ylabel('Total des ventes')\n",
    "plt.xticks(rotation = 70)\n",
    "plt.legend()\n",
    "\n",
    "plt.show()"
   ]
  },
  {
   "cell_type": "code",
   "execution_count": 32,
   "metadata": {},
   "outputs": [
    {
     "data": {
      "image/png": "[encoded data removed]",
      "text/plain": [
       "<Figure size 432x288 with 1 Axes>"
      ]
     },
     "metadata": {
      "needs_background": "light"
     },
     "output_type": "display_data"
    }
   ],
   "source": [
    "# une autre façons de répresenter l'ensemble des ventes trimestrielles de 2003 à 2005\n",
    "\n",
    "plt.plot(trimestre_sales_2003['order date'], trimestre_sales_2003['Ventes par trimestre de 2003'], 'o-.', color='blue', label='2003')\n",
    "plt.plot(trimestre_sales_2004['order date'], trimestre_sales_2004['Ventes par trimestre de 2004'], 'o-.', color='green', label='2004')\n",
    "plt.plot(trimestre_sales_2005['order date'], trimestre_sales_2005['Ventes par trimestre de 2005'], 'o-.', color='red', label='2005')\n",
    "\n",
    "plt.title('Ventes trimestrielles 2003 à 2005')\n",
    "plt.xlabel('Order Date')\n",
    "plt.ylabel('Total des ventes')\n",
    "plt.xticks(rotation=70)\n",
    "\n",
    "# Ajoute une légende\n",
    "plt.legend()\n",
    "\n",
    "plt.show()\n"
   ]
  },
  {
   "cell_type": "code",
   "execution_count": 33,
   "metadata": {},
   "outputs": [
    {
     "data": {
      "text/html": [
       "<div>\n",
       "<style scoped>\n",
       "    .dataframe tbody tr th:only-of-type {\n",
       "        vertical-align: middle;\n",
       "    }\n",
       "\n",
       "    .dataframe tbody tr th {\n",
       "        vertical-align: top;\n",
       "    }\n",
       "\n",
       "    .dataframe thead th {\n",
       "        text-align: right;\n",
       "    }\n",
       "</style>\n",
       "<table border=\"1\" class=\"dataframe\">\n",
       "  <thead>\n",
       "    <tr style=\"text-align: right;\">\n",
       "      <th></th>\n",
       "      <th>order number</th>\n",
       "      <th>quantity ordered</th>\n",
       "      <th>price each</th>\n",
       "      <th>order line number</th>\n",
       "      <th>sales</th>\n",
       "      <th>order date</th>\n",
       "      <th>status</th>\n",
       "      <th>qtr_id</th>\n",
       "      <th>month_id</th>\n",
       "      <th>year_id</th>\n",
       "      <th>...</th>\n",
       "      <th>address line1</th>\n",
       "      <th>address line2</th>\n",
       "      <th>city</th>\n",
       "      <th>state</th>\n",
       "      <th>postal code</th>\n",
       "      <th>country</th>\n",
       "      <th>territory</th>\n",
       "      <th>contact lastname</th>\n",
       "      <th>contact firstname</th>\n",
       "      <th>deal size</th>\n",
       "    </tr>\n",
       "  </thead>\n",
       "  <tbody>\n",
       "    <tr>\n",
       "      <th>0</th>\n",
       "      <td>10107</td>\n",
       "      <td>30</td>\n",
       "      <td>95.70</td>\n",
       "      <td>2</td>\n",
       "      <td>2871.00</td>\n",
       "      <td>2003-02-24</td>\n",
       "      <td>Shipped</td>\n",
       "      <td>1</td>\n",
       "      <td>2</td>\n",
       "      <td>2003</td>\n",
       "      <td>...</td>\n",
       "      <td>897 Long Airport Avenue</td>\n",
       "      <td>NaN</td>\n",
       "      <td>NYC</td>\n",
       "      <td>NY</td>\n",
       "      <td>10022</td>\n",
       "      <td>USA</td>\n",
       "      <td>NaN</td>\n",
       "      <td>Yu</td>\n",
       "      <td>Kwai</td>\n",
       "      <td>Small</td>\n",
       "    </tr>\n",
       "    <tr>\n",
       "      <th>1</th>\n",
       "      <td>10121</td>\n",
       "      <td>34</td>\n",
       "      <td>81.35</td>\n",
       "      <td>5</td>\n",
       "      <td>2765.90</td>\n",
       "      <td>2003-05-07</td>\n",
       "      <td>Shipped</td>\n",
       "      <td>2</td>\n",
       "      <td>5</td>\n",
       "      <td>2003</td>\n",
       "      <td>...</td>\n",
       "      <td>59 rue de l'Abbaye</td>\n",
       "      <td>NaN</td>\n",
       "      <td>Reims</td>\n",
       "      <td>NaN</td>\n",
       "      <td>51100</td>\n",
       "      <td>France</td>\n",
       "      <td>EMEA</td>\n",
       "      <td>Henriot</td>\n",
       "      <td>Paul</td>\n",
       "      <td>Small</td>\n",
       "    </tr>\n",
       "    <tr>\n",
       "      <th>2</th>\n",
       "      <td>10134</td>\n",
       "      <td>41</td>\n",
       "      <td>94.74</td>\n",
       "      <td>2</td>\n",
       "      <td>3884.34</td>\n",
       "      <td>2003-07-01</td>\n",
       "      <td>Shipped</td>\n",
       "      <td>3</td>\n",
       "      <td>7</td>\n",
       "      <td>2003</td>\n",
       "      <td>...</td>\n",
       "      <td>27 rue du Colonel Pierre Avia</td>\n",
       "      <td>NaN</td>\n",
       "      <td>Paris</td>\n",
       "      <td>NaN</td>\n",
       "      <td>75508</td>\n",
       "      <td>France</td>\n",
       "      <td>EMEA</td>\n",
       "      <td>Da Cunha</td>\n",
       "      <td>Daniel</td>\n",
       "      <td>Medium</td>\n",
       "    </tr>\n",
       "  </tbody>\n",
       "</table>\n",
       "<p>3 rows × 25 columns</p>\n",
       "</div>"
      ],
      "text/plain": [
       "   order number  quantity ordered  price each  order line number    sales  \\\n",
       "0         10107                30       95.70                  2  2871.00   \n",
       "1         10121                34       81.35                  5  2765.90   \n",
       "2         10134                41       94.74                  2  3884.34   \n",
       "\n",
       "  order date   status  qtr_id  month_id  year_id  ...  \\\n",
       "0 2003-02-24  Shipped       1         2     2003  ...   \n",
       "1 2003-05-07  Shipped       2         5     2003  ...   \n",
       "2 2003-07-01  Shipped       3         7     2003  ...   \n",
       "\n",
       "                   address line1  address line2   city state postal code  \\\n",
       "0        897 Long Airport Avenue            NaN    NYC    NY       10022   \n",
       "1             59 rue de l'Abbaye            NaN  Reims   NaN       51100   \n",
       "2  27 rue du Colonel Pierre Avia            NaN  Paris   NaN       75508   \n",
       "\n",
       "  country territory contact lastname contact firstname deal size  \n",
       "0     USA       NaN               Yu              Kwai     Small  \n",
       "1  France      EMEA          Henriot              Paul     Small  \n",
       "2  France      EMEA         Da Cunha            Daniel    Medium  \n",
       "\n",
       "[3 rows x 25 columns]"
      ]
     },
     "execution_count": 33,
     "metadata": {},
     "output_type": "execute_result"
    }
   ],
   "source": [
    "df.head(3)"
   ]
  },
  {
   "cell_type": "code",
   "execution_count": 34,
   "metadata": {},
   "outputs": [
    {
     "data": {
      "image/png": "[encoded data removed]",
      "text/plain": [
       "<Figure size 432x288 with 1 Axes>"
      ]
     },
     "metadata": {
      "needs_background": "light"
     },
     "output_type": "display_data"
    }
   ],
   "source": [
    "plt.scatter(df['price each'], df['sales'])\n",
    "\n",
    "plt.title('Evolution des prix de ventes par rapport au prix unitaire')\n",
    "plt.xlabel('Prix unitaire')\n",
    "plt.ylabel('Ventes')\n",
    "plt.xticks(rotation=50)\n",
    "\n",
    "plt.show()"
   ]
  },
  {
   "cell_type": "code",
   "execution_count": 35,
   "metadata": {},
   "outputs": [
    {
     "name": "stdout",
     "output_type": "stream",
     "text": [
      "    city  quantity ordered\n",
      "0  Reims              1433\n"
     ]
    }
   ],
   "source": [
    "reims_quantity_ordered = df[df['city'] == 'Reims'].groupby(df['city'])['quantity ordered'].sum().reset_index()\n",
    "#reims_quantity_ordered = reims_quantity_ordered.groupby(reims_quantity_ordered['city'])['quantity ordered'].sum()\n",
    "print(reims_quantity_ordered)"
   ]
  },
  {
   "cell_type": "code",
   "execution_count": 36,
   "metadata": {},
   "outputs": [
    {
     "name": "stdout",
     "output_type": "stream",
     "text": [
      "  product line       sales\n",
      "0  Motorcycles  1166388.34\n"
     ]
    }
   ],
   "source": [
    "prod_most_sales = df[df['product line'] == 'Motorcycles'].groupby(df['product line'])['sales'].sum().reset_index()\n",
    "\n",
    "print(prod_most_sales)"
   ]
  },
  {
   "cell_type": "code",
   "execution_count": null,
   "metadata": {},
   "outputs": [],
   "source": []
  }
 ],
 "metadata": {
  "kernelspec": {
   "display_name": "Python 3",
   "language": "python",
   "name": "python3"
  },
  "language_info": {
   "codemirror_mode": {
    "name": "ipython",
    "version": 3
   },
   "file_extension": ".py",
   "mimetype": "text/x-python",
   "name": "python",
   "nbconvert_exporter": "python",
   "pygments_lexer": "ipython3",
   "version": "3.7.3"
  }
 },
 "nbformat": 4,
 "nbformat_minor": 2
}
